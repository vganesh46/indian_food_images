{
 "cells": [
  {
   "cell_type": "markdown",
   "metadata": {},
   "source": [
    "### Import libraries"
   ]
  },
  {
   "cell_type": "code",
   "execution_count": 1,
   "metadata": {},
   "outputs": [],
   "source": [
    "import pandas as pd\n",
    "import numpy as np\n",
    "import re\n",
    "\n",
    "from bs4 import BeautifulSoup\n",
    "import urllib\n",
    "import re\n",
    "import datetime\n",
    "import pandas as pd\n",
    "import json\n",
    "import urllib.request\n",
    "\n",
    "import requests\n",
    "from time import sleep\n",
    "import multiprocessing as mp\n",
    "from tqdm  import tqdm"
   ]
  },
  {
   "cell_type": "markdown",
   "metadata": {},
   "source": [
    "### Import restaurant slug data"
   ]
  },
  {
   "cell_type": "code",
   "execution_count": 2,
   "metadata": {},
   "outputs": [
    {
     "data": {
      "text/plain": [
       "'/home/paperspace/Nutrition_Journal'"
      ]
     },
     "execution_count": 2,
     "metadata": {},
     "output_type": "execute_result"
    }
   ],
   "source": [
    "%pwd\n",
    "\n",
    "# df = pd.read_csv('swiggy_data.csv')\n",
    "# df = df[['restaurant_slugs']]"
   ]
  },
  {
   "cell_type": "markdown",
   "metadata": {},
   "source": [
    "### Preprocessing restaurant slug data"
   ]
  },
  {
   "cell_type": "code",
   "execution_count": 3,
   "metadata": {},
   "outputs": [],
   "source": [
    "# df['restaurant_slugs'] = df['restaurant_slugs'].str.replace('\"','')\n",
    "# df['slugs'] = df['restaurant_slugs'].str.findall(r\"slugs:\\{[^}]*\\}\")\n",
    "# df = df[df.slugs.notnull()]\n",
    "\n",
    "# l = df.slugs.values.flatten()\n",
    "# l1 = [item for sublist in l for item in sublist]\n",
    "\n",
    "# df2 = pd.DataFrame({'slugs':l1})\n",
    "# df2['city'] = df2['slugs'].str.findall(r\"city:[^}]*\\}\")\n",
    "# df2['restaurant'] =  df2['slugs'].str.findall(r\"restaurant:[^}]*,\")\n",
    "\n",
    "# df2['city'] = df2['city'].astype('str')\n",
    "# df2['restaurant'] = df2['restaurant'].astype('str')\n",
    "\n",
    "# df2['city'] = df2['city'].str.replace('[^\\w\\-:.]', '').str.split(':').str[-1]\n",
    "# df2['restaurant'] = df2['restaurant'].str.replace('[^\\w\\-:.]', '').str.split(':').str[-1]\n",
    "\n",
    "# df2['url'] = \"https://www.swiggy.com/\" + df2['city'] + \"/\" + df2['restaurant']\n",
    "\n",
    "# df2.to_csv('urls.csv')"
   ]
  },
  {
   "cell_type": "markdown",
   "metadata": {},
   "source": [
    "### Importing restaurant urls "
   ]
  },
  {
   "cell_type": "code",
   "execution_count": 4,
   "metadata": {},
   "outputs": [],
   "source": [
    "df2 = pd.read_csv('urls.csv')"
   ]
  },
  {
   "cell_type": "code",
   "execution_count": 5,
   "metadata": {},
   "outputs": [
    {
     "data": {
      "text/html": [
       "<div>\n",
       "<style scoped>\n",
       "    .dataframe tbody tr th:only-of-type {\n",
       "        vertical-align: middle;\n",
       "    }\n",
       "\n",
       "    .dataframe tbody tr th {\n",
       "        vertical-align: top;\n",
       "    }\n",
       "\n",
       "    .dataframe thead th {\n",
       "        text-align: right;\n",
       "    }\n",
       "</style>\n",
       "<table border=\"1\" class=\"dataframe\">\n",
       "  <thead>\n",
       "    <tr style=\"text-align: right;\">\n",
       "      <th></th>\n",
       "      <th>row_number</th>\n",
       "      <th>slugs</th>\n",
       "      <th>city</th>\n",
       "      <th>restaurant</th>\n",
       "      <th>url</th>\n",
       "    </tr>\n",
       "  </thead>\n",
       "  <tbody>\n",
       "    <tr>\n",
       "      <th>0</th>\n",
       "      <td>0</td>\n",
       "      <td>slugs:{restaurant:lassi-shop-central-bangalore...</td>\n",
       "      <td>bangalore</td>\n",
       "      <td>lassi-shop-central-bangalore-central-bangalore</td>\n",
       "      <td>https://www.swiggy.com/bangalore/lassi-shop-ce...</td>\n",
       "    </tr>\n",
       "    <tr>\n",
       "      <th>1</th>\n",
       "      <td>1</td>\n",
       "      <td>slugs:{restaurant:baba-da-dhaba-cbd-central-ba...</td>\n",
       "      <td>bangalore</td>\n",
       "      <td>baba-da-dhaba-cbd-central-bangalore</td>\n",
       "      <td>https://www.swiggy.com/bangalore/baba-da-dhaba...</td>\n",
       "    </tr>\n",
       "    <tr>\n",
       "      <th>2</th>\n",
       "      <td>2</td>\n",
       "      <td>slugs:{restaurant:vasudev-adigas-church-street...</td>\n",
       "      <td>bangalore</td>\n",
       "      <td>vasudev-adigas-church-street-church-street-cen...</td>\n",
       "      <td>https://www.swiggy.com/bangalore/vasudev-adiga...</td>\n",
       "    </tr>\n",
       "    <tr>\n",
       "      <th>3</th>\n",
       "      <td>3</td>\n",
       "      <td>slugs:{restaurant:vasudev-adigas-mg-road-centr...</td>\n",
       "      <td>bangalore</td>\n",
       "      <td>vasudev-adigas-mg-road-central-bangalore</td>\n",
       "      <td>https://www.swiggy.com/bangalore/vasudev-adiga...</td>\n",
       "    </tr>\n",
       "    <tr>\n",
       "      <th>4</th>\n",
       "      <td>4</td>\n",
       "      <td>slugs:{restaurant:vasudev-adigas-commercial-st...</td>\n",
       "      <td>bangalore</td>\n",
       "      <td>vasudev-adigas-commercial-street-central-banga...</td>\n",
       "      <td>https://www.swiggy.com/bangalore/vasudev-adiga...</td>\n",
       "    </tr>\n",
       "  </tbody>\n",
       "</table>\n",
       "</div>"
      ],
      "text/plain": [
       "   row_number                                              slugs       city  \\\n",
       "0           0  slugs:{restaurant:lassi-shop-central-bangalore...  bangalore   \n",
       "1           1  slugs:{restaurant:baba-da-dhaba-cbd-central-ba...  bangalore   \n",
       "2           2  slugs:{restaurant:vasudev-adigas-church-street...  bangalore   \n",
       "3           3  slugs:{restaurant:vasudev-adigas-mg-road-centr...  bangalore   \n",
       "4           4  slugs:{restaurant:vasudev-adigas-commercial-st...  bangalore   \n",
       "\n",
       "                                          restaurant  \\\n",
       "0     lassi-shop-central-bangalore-central-bangalore   \n",
       "1                baba-da-dhaba-cbd-central-bangalore   \n",
       "2  vasudev-adigas-church-street-church-street-cen...   \n",
       "3           vasudev-adigas-mg-road-central-bangalore   \n",
       "4  vasudev-adigas-commercial-street-central-banga...   \n",
       "\n",
       "                                                 url  \n",
       "0  https://www.swiggy.com/bangalore/lassi-shop-ce...  \n",
       "1  https://www.swiggy.com/bangalore/baba-da-dhaba...  \n",
       "2  https://www.swiggy.com/bangalore/vasudev-adiga...  \n",
       "3  https://www.swiggy.com/bangalore/vasudev-adiga...  \n",
       "4  https://www.swiggy.com/bangalore/vasudev-adiga...  "
      ]
     },
     "execution_count": 5,
     "metadata": {},
     "output_type": "execute_result"
    }
   ],
   "source": [
    "df2.head()"
   ]
  },
  {
   "cell_type": "markdown",
   "metadata": {},
   "source": [
    "### Scrape pages using beautifulsoup"
   ]
  },
  {
   "cell_type": "code",
   "execution_count": 6,
   "metadata": {},
   "outputs": [],
   "source": [
    "def soupify(url):\n",
    "    \n",
    "    with urllib.request.urlopen(url,timeout = 15) as url:\n",
    "        content = url.read()\n",
    "        soup = BeautifulSoup(content, 'html.parser')  \n",
    "        return soup\n",
    "\n",
    "def extract(imgs,fn_item_name,fn_item_cat,fn_item_imgurl):\n",
    "    item_name = []\n",
    "    item_cat = []\n",
    "    item_imgurl = []\n",
    "    \n",
    "    for element in imgs:\n",
    "        column1 = fn_item_name(element)\n",
    "        item_name.append(column1)\n",
    "        column2 = fn_item_cat(element)\n",
    "        item_cat.append(column2)\n",
    "        column3 = fn_item_imgurl(element)\n",
    "        item_imgurl.append(column3)\n",
    "        \n",
    "    columns = {'item_name': item_name, 'item_cat': item_cat, 'item_imgurl': item_imgurl }\n",
    "    df = pd.DataFrame(columns)\n",
    "    return(df)\n",
    "\n",
    "def item_name(element):\n",
    "    return element.find(\"div\",class_ =\"_32z8y\").get_text()\n",
    "\n",
    "def item_cat(element):\n",
    "    return element.find(\"div\",class_ =\"J79Tq\").get_text()\n",
    "\n",
    "def item_imgurl(element):\n",
    "    return element.find(itemprop=\"image\").get(\"content\")"
   ]
  },
  {
   "cell_type": "code",
   "execution_count": 18,
   "metadata": {},
   "outputs": [],
   "source": [
    "df3 = df2[df2.row_number > 25867]"
   ]
  },
  {
   "cell_type": "code",
   "execution_count": 19,
   "metadata": {},
   "outputs": [],
   "source": [
    "# for index, row in df3.iterrows():\n",
    "#     url = row['url']\n",
    "#     imgs = soupify(url).find_all('div', attrs={'class': 'WpzxQ'})\n",
    "#     data = extract(imgs,item_name,item_cat,item_imgurl)\n",
    "#     data['url'] = url\n",
    "#     data['url_num'] = index\n",
    "#     data_images =data_images.append(data,ignore_index=True)"
   ]
  },
  {
   "cell_type": "code",
   "execution_count": 20,
   "metadata": {},
   "outputs": [],
   "source": [
    "# url = \"https://www.swiggy.com/bangalore/lassi-shop-central-bangalore-central-bangalore\"\n",
    "# imgs = soupify(url).find_all('div', attrs={'class': 'WpzxQ'})\n",
    "# data = extract(imgs,item_name,item_cat,item_imgurl)"
   ]
  },
  {
   "cell_type": "code",
   "execution_count": 21,
   "metadata": {},
   "outputs": [],
   "source": [
    "def parse(url):\n",
    "    imgs = soupify(url).find_all('div', attrs={'class': 'WpzxQ'})\n",
    "    data = extract(imgs,item_name,item_cat,item_imgurl)\n",
    "    data['url'] = url\n",
    "    data['url_num'] = df3[df3.url== url].row_number.iloc[0]\n",
    "    return data"
   ]
  },
  {
   "cell_type": "code",
   "execution_count": 22,
   "metadata": {},
   "outputs": [],
   "source": [
    "restaurant_links = list(df3.url)"
   ]
  },
  {
   "cell_type": "code",
   "execution_count": 23,
   "metadata": {},
   "outputs": [
    {
     "data": {
      "text/plain": [
       "803"
      ]
     },
     "execution_count": 23,
     "metadata": {},
     "output_type": "execute_result"
    }
   ],
   "source": [
    "len(restaurant_links)"
   ]
  },
  {
   "cell_type": "code",
   "execution_count": 24,
   "metadata": {},
   "outputs": [],
   "source": [
    "processes = (mp.cpu_count() - 1)"
   ]
  },
  {
   "cell_type": "code",
   "execution_count": 25,
   "metadata": {},
   "outputs": [],
   "source": [
    "# p = mp.Pool(processes = processes)\n",
    "# for _ in tqdm(p.imap_unordered(parse, restaurant_links), total= 14660):\n",
    "#     records = p.map(parse, restaurant_links)\n",
    "# p.close()\n",
    "# p.join()\n",
    "# p.terminate()"
   ]
  },
  {
   "cell_type": "code",
   "execution_count": 26,
   "metadata": {},
   "outputs": [
    {
     "name": "stderr",
     "output_type": "stream",
     "text": [
      "\n",
      "  0%|          | 0/803 [00:00<?, ?it/s]\u001b[A\n",
      "Exception in thread Thread-4:\n",
      "Traceback (most recent call last):\n",
      "  File \"/home/paperspace/anaconda3/envs/fastai/lib/python3.6/threading.py\", line 916, in _bootstrap_inner\n",
      "    self.run()\n",
      "  File \"/home/paperspace/anaconda3/envs/fastai/lib/python3.6/site-packages/tqdm/_tqdm.py\", line 144, in run\n",
      "    for instance in self.tqdm_cls._instances:\n",
      "  File \"/home/paperspace/anaconda3/envs/fastai/lib/python3.6/_weakrefset.py\", line 60, in __iter__\n",
      "    for itemref in self.data:\n",
      "RuntimeError: Set changed size during iteration\n",
      "\n",
      "100%|██████████| 803/803 [32:09<00:00,  2.40s/it]\n"
     ]
    }
   ],
   "source": [
    "df_final = pd.DataFrame()\n",
    "\n",
    "\n",
    "for url in tqdm(restaurant_links):\n",
    "    df = parse(url)\n",
    "    df_final =df_final.append(df,ignore_index=True)"
   ]
  },
  {
   "cell_type": "code",
   "execution_count": 27,
   "metadata": {},
   "outputs": [
    {
     "data": {
      "text/plain": [
       "array([25868, 25871, 25873, 25874, 25875, 25877, 25880, 25881, 25883,\n",
       "       25885, 25888, 25889, 25890, 25891, 25892, 25893, 25894, 25897,\n",
       "       25898, 25900, 25903, 25905, 25906, 25907, 25908, 25909, 25910,\n",
       "       25911, 25912, 25913, 25914, 25915, 25917, 25918, 25919, 25920,\n",
       "       25921, 25922, 25923, 25924, 25925, 25926, 25927, 25928, 25929,\n",
       "       25930, 25932, 25933, 25934, 25935, 25936, 25937, 25938, 25940,\n",
       "       25941, 25942, 25943, 25944, 25945, 25946, 25947, 25948, 25949,\n",
       "       25950, 25951, 25952, 25953, 25954, 25955, 25956, 25957, 25958,\n",
       "       25959, 25960, 25961, 25962, 25963, 25964, 25965, 25966, 25967,\n",
       "       25969, 25970, 25971, 25973, 25974, 25975, 25977, 25978, 25980,\n",
       "       25981, 25982, 25983, 25984, 25985, 25986, 25987, 25988, 25989,\n",
       "       25990, 25991, 25992, 25993, 25995, 25996, 25997, 25998, 25999,\n",
       "       26000, 26001, 26002, 26003, 26004, 26005, 26006, 26007, 26008,\n",
       "       26009, 26012, 26013, 26014, 26015, 26016, 26017, 26018, 26019,\n",
       "       26020, 26021, 26022, 26023, 26025, 26026, 26027, 26028, 26029,\n",
       "       26030, 26031, 26032, 26033, 26034, 26035, 26036, 26037, 26039,\n",
       "       26040, 26041, 26042, 26043, 26044, 26045, 26047, 26048, 26050,\n",
       "       26051, 26052, 26053, 26054, 26055, 26056, 26057, 26058, 26059,\n",
       "       26060, 26061, 26063, 26064, 26065, 26066, 26070, 26072, 26073,\n",
       "       26074, 26075, 26076, 26077, 26078, 26079, 26080, 26082, 26083,\n",
       "       26084, 26086, 26087, 26088, 26089, 26091, 26093, 26094, 26095,\n",
       "       26097, 26098, 26100, 26101, 26102, 26103, 26104, 26105, 26106,\n",
       "       26107, 26108, 26110, 26111, 26112, 26113, 26114, 26115, 26116,\n",
       "       26117, 26120, 26121, 26123, 26124, 26125, 26126, 26127, 26129,\n",
       "       26130, 26131, 26134, 26135, 26137, 26138, 26140, 26141, 26143,\n",
       "       26144, 26145, 26146, 26148, 26149, 26150, 26151, 26152, 26153,\n",
       "       26155, 26156, 26158, 26159, 26160, 26161, 26162, 26164, 26165,\n",
       "       26166, 26169, 26171, 26172, 26173, 26176, 26177, 26178, 26179,\n",
       "       26182, 26183, 26184, 26185, 26187, 26188, 26189, 26190, 26191,\n",
       "       26192, 26193, 26197, 26198, 26199, 26200, 26201, 26207, 26208,\n",
       "       26209, 26211, 26212, 26214, 26215, 26216, 26217, 26218, 26219,\n",
       "       26220, 26221, 26222, 26223, 26224, 26225, 26226, 26229, 26230,\n",
       "       26231, 26232, 26233, 26234, 26235, 26236, 26238, 26239, 26243,\n",
       "       26245, 26246, 26247, 26248, 26250, 26251, 26252, 26253, 26254,\n",
       "       26255, 26256, 26257, 26258, 26262, 26263, 26265, 26266, 26267,\n",
       "       26268, 26269, 26270, 26271, 26272, 26273, 26274, 26275, 26277,\n",
       "       26278, 26279, 26280, 26281, 26282, 26283, 26284, 26285, 26286,\n",
       "       26287, 26288, 26289, 26290, 26291, 26293, 26294, 26296, 26297,\n",
       "       26298, 26299, 26300, 26301, 26302, 26303, 26304, 26305, 26306,\n",
       "       26307, 26308, 26309, 26311, 26313, 26314, 26315, 26316, 26317,\n",
       "       26318, 26319, 26320, 26323, 26324, 26325, 26326, 26327, 26328,\n",
       "       26329, 26332, 26334, 26336, 26338, 26339, 26340, 26342, 26343,\n",
       "       26344, 26345, 26346, 26349, 26350, 26351, 26353, 26354, 26356,\n",
       "       26357, 26359, 26360, 26361, 26368, 26369, 26371, 26372, 26373,\n",
       "       26374, 26375, 26378, 26381, 26382, 26383, 26384, 26386, 26387,\n",
       "       26388, 26394, 26395, 26399, 26403, 26404, 26405, 26406, 26407,\n",
       "       26410, 26411, 26412, 26415, 26416, 26417, 26418, 26419, 26420,\n",
       "       26421, 26422, 26423, 26424, 26425, 26426, 26427, 26428, 26429,\n",
       "       26430, 26431, 26432, 26433, 26434, 26435, 26436, 26437, 26438,\n",
       "       26439, 26440, 26441, 26442, 26443, 26445, 26447, 26448, 26449,\n",
       "       26450, 26451, 26452, 26454, 26455, 26456, 26457, 26458, 26461,\n",
       "       26463, 26465, 26467, 26469, 26470, 26471, 26476, 26477, 26479,\n",
       "       26481, 26482, 26483, 26484, 26485, 26486, 26488, 26489, 26490,\n",
       "       26491, 26493, 26494, 26495, 26496, 26498, 26502, 26503, 26507,\n",
       "       26508, 26510, 26511, 26520, 26522, 26524, 26526, 26527, 26529,\n",
       "       26531, 26532, 26533, 26536, 26537, 26538, 26539, 26540, 26541,\n",
       "       26543, 26544, 26545, 26546, 26550, 26552, 26554, 26555, 26557,\n",
       "       26559, 26560, 26561, 26562, 26563, 26565, 26566, 26567, 26568,\n",
       "       26570, 26574, 26576, 26579, 26580, 26581, 26582, 26585, 26586,\n",
       "       26587, 26590, 26591, 26592, 26593, 26594, 26598, 26599, 26600,\n",
       "       26606, 26617, 26618, 26619, 26625, 26626, 26628, 26629, 26632,\n",
       "       26634, 26635, 26639, 26642, 26646, 26653, 26655, 26657, 26661,\n",
       "       26664, 26666, 26670])"
      ]
     },
     "execution_count": 27,
     "metadata": {},
     "output_type": "execute_result"
    }
   ],
   "source": [
    "df_final.url_num.unique()"
   ]
  },
  {
   "cell_type": "code",
   "execution_count": 28,
   "metadata": {},
   "outputs": [],
   "source": [
    "df_final.to_csv('data_images_url_26670.csv')"
   ]
  },
  {
   "cell_type": "code",
   "execution_count": 142,
   "metadata": {},
   "outputs": [],
   "source": [
    "# with Pool(processes = processes) as p:\n",
    "#     records = p.map(parse, restaurant_links)\n",
    "#     records_df = pd.concat(records)"
   ]
  },
  {
   "cell_type": "code",
   "execution_count": 29,
   "metadata": {},
   "outputs": [],
   "source": [
    "df1 = pd.read_csv('data_images_url_2940.csv')\n",
    "df2 = pd.read_csv('data_images_url_4357.csv')\n",
    "df3 = pd.read_csv('data_images_url_12010.csv')\n",
    "df4 = pd.read_csv('data_images_url_13546.csv')\n",
    "df5 = pd.read_csv('data_images_url_17401.csv')\n",
    "df6 = pd.read_csv('data_images_url_19559.csv')\n",
    "df7 = pd.read_csv('data_images_url_25071.csv')\n",
    "df8 = pd.read_csv('data_images_url_25867.csv')\n",
    "df9 = pd.read_csv('data_images_url_26670.csv')"
   ]
  },
  {
   "cell_type": "code",
   "execution_count": 51,
   "metadata": {},
   "outputs": [],
   "source": [
    "df_concat = pd.concat([df1,df2,df3,df4,df5,df6,df7,df8,df9])"
   ]
  },
  {
   "cell_type": "code",
   "execution_count": 54,
   "metadata": {},
   "outputs": [],
   "source": [
    "df_concat.rename(columns = {'Unnamed: 0':'row_number'}, inplace = True)"
   ]
  },
  {
   "cell_type": "code",
   "execution_count": 56,
   "metadata": {},
   "outputs": [],
   "source": [
    "df_concat.to_csv('image_url.csv')"
   ]
  },
  {
   "cell_type": "code",
   "execution_count": null,
   "metadata": {},
   "outputs": [],
   "source": []
  }
 ],
 "metadata": {
  "kernelspec": {
   "display_name": "Python 3",
   "language": "python",
   "name": "python3"
  },
  "language_info": {
   "codemirror_mode": {
    "name": "ipython",
    "version": 3
   },
   "file_extension": ".py",
   "mimetype": "text/x-python",
   "name": "python",
   "nbconvert_exporter": "python",
   "pygments_lexer": "ipython3",
   "version": "3.6.4"
  }
 },
 "nbformat": 4,
 "nbformat_minor": 2
}
